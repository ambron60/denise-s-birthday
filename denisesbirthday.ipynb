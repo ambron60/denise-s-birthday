{
 "cells": [
  {
   "cell_type": "markdown",
   "metadata": {},
   "source": [
    "## Can You Figure out When Denise’s Birthday Is?"
   ]
  },
  {
   "cell_type": "markdown",
   "metadata": {},
   "source": [
    "From http://thescienceexplorer.com/technology/can-you-figure-out-when-denise-s-birthday"
   ]
  },
  {
   "cell_type": "code",
   "execution_count": 1,
   "metadata": {},
   "outputs": [],
   "source": [
    "import pandas as pd"
   ]
  },
  {
   "cell_type": "code",
   "execution_count": 2,
   "metadata": {},
   "outputs": [],
   "source": [
    "birthdays = ['17 Feb 2001', '16 Mar 2002', '13 Jan 2003', '19 Jan 2004', '13 Mar 2001', '15 Apr 2002', '16 Feb 2003', '18 Feb 2004', '13 Apr 2001', '14 May 2002', '14 Mar 2003', '19 May 2004', '15 May 2001', '12 Jun 2002', '11 Apr 2003', '14 Jul 2004', '17 Jun 2001', '16 Aug 2002', '16 Jul 2003', '18 Aug 2004']"
   ]
  },
  {
   "cell_type": "code",
   "execution_count": 3,
   "metadata": {},
   "outputs": [],
   "source": [
    "data = {'month': [month for month in [month[3:6] for month in birthdays]], \n",
    "     'day': [day for day in [day[0:2] for day in birthdays]],\n",
    "     'year': [year for year in [year[7:] for year in birthdays]]}"
   ]
  },
  {
   "cell_type": "code",
   "execution_count": 4,
   "metadata": {},
   "outputs": [],
   "source": [
    "months_sorted = [\"Jan\", \"Feb\", \"Mar\", \"Apr\", \"May\", \"Jun\", \"Jul\", \"Aug\", \"Sep\", \"Oct\", \"Nov\", \"Dec\"]"
   ]
  },
  {
   "cell_type": "code",
   "execution_count": 5,
   "metadata": {},
   "outputs": [],
   "source": [
    "df = pd.DataFrame(data)"
   ]
  },
  {
   "cell_type": "code",
   "execution_count": 6,
   "metadata": {},
   "outputs": [],
   "source": [
    "df['month'] = pd.Categorical(df['month'], months_sorted)"
   ]
  },
  {
   "cell_type": "code",
   "execution_count": 7,
   "metadata": {},
   "outputs": [],
   "source": [
    "def reset_dataframe(dataframe):\n",
    "    dataframe = dataframe.reset_index(inplace=True, drop=True)"
   ]
  },
  {
   "cell_type": "markdown",
   "metadata": {},
   "source": [
    "Let’s get started. We know that Albert knows the month of Denise’s birthday, while Bernard knows the date, and Cheryl knows the year. What you have to pay attention to is what each person is saying.\n",
    "\n",
    "1st Step - Albert says, “I don’t know her birthday, but I know Bernard doesn’t know.” Of course Albert can’t know because every month appears more than once, but how can he know that Bernard doesn’t know? You need to count the number of times a date appears.\n",
    "\n",
    "When you count them up, you will notice that the dates 11 and 12 occur only once. What this means is that we can remove any dates with 11 and 12: June 12 and April 11. Otherwise, Bernard would know Denise’s birthday. But since Albert knows the month, this also means that the date isn’t in June or April, so we can also get rid of all dates with June and April."
   ]
  },
  {
   "cell_type": "code",
   "execution_count": 8,
   "metadata": {},
   "outputs": [
    {
     "data": {
      "text/html": [
       "<div>\n",
       "<style scoped>\n",
       "    .dataframe tbody tr th:only-of-type {\n",
       "        vertical-align: middle;\n",
       "    }\n",
       "\n",
       "    .dataframe tbody tr th {\n",
       "        vertical-align: top;\n",
       "    }\n",
       "\n",
       "    .dataframe thead th {\n",
       "        text-align: right;\n",
       "    }\n",
       "</style>\n",
       "<table border=\"1\" class=\"dataframe\">\n",
       "  <thead>\n",
       "    <tr style=\"text-align: right;\">\n",
       "      <th>year</th>\n",
       "      <th>2001</th>\n",
       "      <th>2002</th>\n",
       "      <th>2003</th>\n",
       "      <th>2004</th>\n",
       "    </tr>\n",
       "    <tr>\n",
       "      <th>month</th>\n",
       "      <th></th>\n",
       "      <th></th>\n",
       "      <th></th>\n",
       "      <th></th>\n",
       "    </tr>\n",
       "  </thead>\n",
       "  <tbody>\n",
       "    <tr>\n",
       "      <th>Jan</th>\n",
       "      <td>NaN</td>\n",
       "      <td>NaN</td>\n",
       "      <td>13</td>\n",
       "      <td>19</td>\n",
       "    </tr>\n",
       "    <tr>\n",
       "      <th>Feb</th>\n",
       "      <td>17</td>\n",
       "      <td>NaN</td>\n",
       "      <td>16</td>\n",
       "      <td>18</td>\n",
       "    </tr>\n",
       "    <tr>\n",
       "      <th>Mar</th>\n",
       "      <td>13</td>\n",
       "      <td>16</td>\n",
       "      <td>14</td>\n",
       "      <td>NaN</td>\n",
       "    </tr>\n",
       "    <tr>\n",
       "      <th>Apr</th>\n",
       "      <td>13</td>\n",
       "      <td>15</td>\n",
       "      <td>11</td>\n",
       "      <td>NaN</td>\n",
       "    </tr>\n",
       "    <tr>\n",
       "      <th>May</th>\n",
       "      <td>15</td>\n",
       "      <td>14</td>\n",
       "      <td>NaN</td>\n",
       "      <td>19</td>\n",
       "    </tr>\n",
       "    <tr>\n",
       "      <th>Jun</th>\n",
       "      <td>17</td>\n",
       "      <td>12</td>\n",
       "      <td>NaN</td>\n",
       "      <td>NaN</td>\n",
       "    </tr>\n",
       "    <tr>\n",
       "      <th>Jul</th>\n",
       "      <td>NaN</td>\n",
       "      <td>NaN</td>\n",
       "      <td>16</td>\n",
       "      <td>14</td>\n",
       "    </tr>\n",
       "    <tr>\n",
       "      <th>Aug</th>\n",
       "      <td>NaN</td>\n",
       "      <td>16</td>\n",
       "      <td>NaN</td>\n",
       "      <td>18</td>\n",
       "    </tr>\n",
       "  </tbody>\n",
       "</table>\n",
       "</div>"
      ],
      "text/plain": [
       "year  2001 2002 2003 2004\n",
       "month                    \n",
       "Jan    NaN  NaN   13   19\n",
       "Feb     17  NaN   16   18\n",
       "Mar     13   16   14  NaN\n",
       "Apr     13   15   11  NaN\n",
       "May     15   14  NaN   19\n",
       "Jun     17   12  NaN  NaN\n",
       "Jul    NaN  NaN   16   14\n",
       "Aug    NaN   16  NaN   18"
      ]
     },
     "execution_count": 8,
     "metadata": {},
     "output_type": "execute_result"
    }
   ],
   "source": [
    "table = pd.crosstab(index=df['month'], columns=df['year'], values=df['day'], aggfunc='sum')\n",
    "table"
   ]
  },
  {
   "cell_type": "code",
   "execution_count": 9,
   "metadata": {},
   "outputs": [],
   "source": [
    "# Select days that only occur once\n",
    "mins = df.day.value_counts()[(df.day.value_counts() == 1)].index.values"
   ]
  },
  {
   "cell_type": "code",
   "execution_count": 10,
   "metadata": {},
   "outputs": [],
   "source": [
    "# Index(es) to drop from previous step\n",
    "mins_index = df.query(\"day in @mins\").index"
   ]
  },
  {
   "cell_type": "code",
   "execution_count": 11,
   "metadata": {},
   "outputs": [],
   "source": [
    "# Select month(s) that belong to days that occur only once\n",
    "month_drop = df.iloc[mins_index, 1].values"
   ]
  },
  {
   "cell_type": "code",
   "execution_count": 12,
   "metadata": {
    "scrolled": false
   },
   "outputs": [],
   "source": [
    "# Drop days that occur only once from data\n",
    "df = df.drop(df.index[mins_index])"
   ]
  },
  {
   "cell_type": "code",
   "execution_count": 13,
   "metadata": {},
   "outputs": [],
   "source": [
    "# Drop month(s) that belong to days that occur only once\n",
    "df = df[~df['month'].isin(month_drop)]"
   ]
  },
  {
   "cell_type": "code",
   "execution_count": 14,
   "metadata": {},
   "outputs": [],
   "source": [
    "# Reset dataframe index\n",
    "reset_dataframe(df)"
   ]
  },
  {
   "cell_type": "markdown",
   "metadata": {},
   "source": [
    "2nd Step - Next, Bernard says, “I don’t know her birthday, but I know Cheryl doesn’t know.” Both the first and second part of his sentence gives us information. The only way Bernard could know Denise’s birthday is if he has a date that occurs only once, so we can remove all dates that happen just once: 17, and 15."
   ]
  },
  {
   "cell_type": "code",
   "execution_count": 15,
   "metadata": {},
   "outputs": [],
   "source": [
    "# Select days that only occur once\n",
    "mins = df.day.value_counts()[(df.day.value_counts() == 1)].index.values"
   ]
  },
  {
   "cell_type": "code",
   "execution_count": 16,
   "metadata": {
    "scrolled": true
   },
   "outputs": [],
   "source": [
    "# Index(es) to drop from previous step\n",
    "mins_index = df.query(\"day in @mins\").index"
   ]
  },
  {
   "cell_type": "code",
   "execution_count": 17,
   "metadata": {
    "scrolled": false
   },
   "outputs": [],
   "source": [
    "# Drop days that occur only once from data\n",
    "df = df.drop(df.index[mins_index])"
   ]
  },
  {
   "cell_type": "code",
   "execution_count": 18,
   "metadata": {},
   "outputs": [],
   "source": [
    "# Reset dataframe index\n",
    "reset_dataframe(df)"
   ]
  },
  {
   "cell_type": "markdown",
   "metadata": {},
   "source": [
    "3rd Step - But Bernard also says he knows Cheryl doesn’t know, but that could only be true if there is a year with only one date: 2001. But since the date under the year 2001 is May 13, and Bernard knows the date, Denise’s birthday must not be the 13th, so we can also get rid of any date with 13."
   ]
  },
  {
   "cell_type": "code",
   "execution_count": 19,
   "metadata": {},
   "outputs": [],
   "source": [
    "# Select year(s) with only one date\n",
    "year_mins = df.year.value_counts()[(df.year.value_counts() <= 1)].index.values"
   ]
  },
  {
   "cell_type": "code",
   "execution_count": 20,
   "metadata": {},
   "outputs": [],
   "source": [
    "# Find date under the year from the previous step\n",
    "repeated_days = df.day[df.query(\"year in @year_mins\").index]"
   ]
  },
  {
   "cell_type": "code",
   "execution_count": 21,
   "metadata": {},
   "outputs": [],
   "source": [
    "# Find indexes with repeated date\n",
    "repeated_days_index = df.query(\"day in @repeated_days\").index"
   ]
  },
  {
   "cell_type": "code",
   "execution_count": 22,
   "metadata": {},
   "outputs": [],
   "source": [
    "# Drop days that are repeated\n",
    "df = df.drop(df.index[repeated_days_index])"
   ]
  },
  {
   "cell_type": "code",
   "execution_count": 23,
   "metadata": {},
   "outputs": [],
   "source": [
    "# Reset dataframe index\n",
    "reset_dataframe(df)"
   ]
  },
  {
   "cell_type": "markdown",
   "metadata": {},
   "source": [
    "4th Step - Now, Cheryl says, “I don’t know her birthday, but I know Albert doesn’t know.” If Cheryl knows that Albert doesn’t know, that means we can eliminate any year where there is a month that occurs only once in the entire spread. January occurs only once, so we can get rid of the year 2004."
   ]
  },
  {
   "cell_type": "code",
   "execution_count": 24,
   "metadata": {},
   "outputs": [],
   "source": [
    "# Select month that occurs only once in the entire spread\n",
    "months_mins = df.month.value_counts()[(df.month.value_counts() == 1)].index.values"
   ]
  },
  {
   "cell_type": "code",
   "execution_count": 25,
   "metadata": {},
   "outputs": [],
   "source": [
    "# Select year linked to month from previous step\n",
    "month_drop = df.loc[df['month'] == months_mins, 'year']"
   ]
  },
  {
   "cell_type": "code",
   "execution_count": 26,
   "metadata": {},
   "outputs": [],
   "source": [
    "# Index(es) to drop from previous step\n",
    "month_drop_index = df.loc[df['year'] == month_drop.values[0]].index"
   ]
  },
  {
   "cell_type": "code",
   "execution_count": 27,
   "metadata": {},
   "outputs": [],
   "source": [
    "# Remove all entries related to year '2004'\n",
    "df = df.drop(df.index[month_drop_index])"
   ]
  },
  {
   "cell_type": "code",
   "execution_count": 28,
   "metadata": {},
   "outputs": [],
   "source": [
    "# Reset dataframe index\n",
    "reset_dataframe(df)"
   ]
  },
  {
   "cell_type": "markdown",
   "metadata": {},
   "source": [
    "5th Step - Albert exclaims, “Now I know her birthday,” but how can he know? If Albert knows, there can only be one occurrence of that month, so we can get rid of March, which occurs twice."
   ]
  },
  {
   "cell_type": "code",
   "execution_count": 29,
   "metadata": {},
   "outputs": [],
   "source": [
    "# Select month that occurs only once in the entire spread\n",
    "months_mins = df.month.value_counts()[(df.month.value_counts() > 1)].index.values"
   ]
  },
  {
   "cell_type": "code",
   "execution_count": 30,
   "metadata": {},
   "outputs": [],
   "source": [
    "# Index(es) to drop from previous step\n",
    "month_drop_index = df.loc[df['month'] == months_mins].index.values"
   ]
  },
  {
   "cell_type": "code",
   "execution_count": 31,
   "metadata": {},
   "outputs": [],
   "source": [
    "# Remove all entries related to 'March'\n",
    "df = df.drop(df.index[month_drop_index])"
   ]
  },
  {
   "cell_type": "code",
   "execution_count": 32,
   "metadata": {},
   "outputs": [],
   "source": [
    "# Reset dataframe index\n",
    "reset_dataframe(df)"
   ]
  },
  {
   "cell_type": "markdown",
   "metadata": {},
   "source": [
    "6th Step - Bernard shouts, “I know too.” For this to be true — since Bernard knows the date — it must be a day that appears only once. Luckily for us, the number 16 shows up three times."
   ]
  },
  {
   "cell_type": "code",
   "execution_count": 33,
   "metadata": {},
   "outputs": [],
   "source": [
    "# Select days that only occur more than once\n",
    "mins = df.day.value_counts()[(df.day.value_counts() > 1)].index.values"
   ]
  },
  {
   "cell_type": "code",
   "execution_count": 34,
   "metadata": {},
   "outputs": [],
   "source": [
    "# Index(es) to drop from previous step\n",
    "mins_index = df.loc[df['day'] == mins[0]].index.values"
   ]
  },
  {
   "cell_type": "code",
   "execution_count": 35,
   "metadata": {},
   "outputs": [],
   "source": [
    "# Drop duplicate days\n",
    "df = df.drop(df.index[mins_index])"
   ]
  },
  {
   "cell_type": "code",
   "execution_count": 36,
   "metadata": {},
   "outputs": [],
   "source": [
    "# Reset dataframe index\n",
    "reset_dataframe(df)"
   ]
  },
  {
   "cell_type": "code",
   "execution_count": 37,
   "metadata": {},
   "outputs": [
    {
     "name": "stdout",
     "output_type": "stream",
     "text": [
      "Denise's birthday is on May 14, 2002\n"
     ]
    }
   ],
   "source": [
    "print (\"Denise's birthday is on {} {}, {}\".format(str(df.month[0]), str(df.day[0]), str(df.year[0])))"
   ]
  },
  {
   "cell_type": "code",
   "execution_count": null,
   "metadata": {},
   "outputs": [],
   "source": []
  }
 ],
 "metadata": {
  "kernelspec": {
   "display_name": "Python 3",
   "language": "python",
   "name": "python3"
  },
  "language_info": {
   "codemirror_mode": {
    "name": "ipython",
    "version": 3
   },
   "file_extension": ".py",
   "mimetype": "text/x-python",
   "name": "python",
   "nbconvert_exporter": "python",
   "pygments_lexer": "ipython3",
   "version": "3.5.3"
  }
 },
 "nbformat": 4,
 "nbformat_minor": 2
}
